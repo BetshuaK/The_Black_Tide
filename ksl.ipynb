{
 "cells": [
  {
   "cell_type": "code",
   "execution_count": 1,
   "metadata": {},
   "outputs": [
    {
     "ename": "error",
     "evalue": "OpenCV(4.8.1) D:\\a\\opencv-python\\opencv-python\\opencv\\modules\\imgproc\\src\\resize.cpp:4062: error: (-215:Assertion failed) !ssize.empty() in function 'cv::resize'\n",
     "output_type": "error",
     "traceback": [
      "\u001b[1;31m---------------------------------------------------------------------------\u001b[0m",
      "\u001b[1;31merror\u001b[0m                                     Traceback (most recent call last)",
      "\u001b[1;32mc:\\Users\\Hp\\Desktop\\New folder\\ksl.ipynb Cell 1\u001b[0m line \u001b[0;36m3\n\u001b[0;32m     <a href='vscode-notebook-cell:/c%3A/Users/Hp/Desktop/New%20folder/ksl.ipynb#W1sZmlsZQ%3D%3D?line=33'>34</a>\u001b[0m k \u001b[39m=\u001b[39m imgSize\u001b[39m/\u001b[39mh\n\u001b[0;32m     <a href='vscode-notebook-cell:/c%3A/Users/Hp/Desktop/New%20folder/ksl.ipynb#W1sZmlsZQ%3D%3D?line=34'>35</a>\u001b[0m wCal \u001b[39m=\u001b[39m math\u001b[39m.\u001b[39mceil(k\u001b[39m*\u001b[39mw)\n\u001b[1;32m---> <a href='vscode-notebook-cell:/c%3A/Users/Hp/Desktop/New%20folder/ksl.ipynb#W1sZmlsZQ%3D%3D?line=35'>36</a>\u001b[0m imgResize \u001b[39m=\u001b[39m cv2\u001b[39m.\u001b[39;49mresize(imgCrop, (wCal, imgSize))\n\u001b[0;32m     <a href='vscode-notebook-cell:/c%3A/Users/Hp/Desktop/New%20folder/ksl.ipynb#W1sZmlsZQ%3D%3D?line=36'>37</a>\u001b[0m imgResizeShape \u001b[39m=\u001b[39m imgResize\u001b[39m.\u001b[39mshape\n\u001b[0;32m     <a href='vscode-notebook-cell:/c%3A/Users/Hp/Desktop/New%20folder/ksl.ipynb#W1sZmlsZQ%3D%3D?line=37'>38</a>\u001b[0m wGap \u001b[39m=\u001b[39m math\u001b[39m.\u001b[39mceil(imgSize\u001b[39m-\u001b[39mwCal)\u001b[39m/\u001b[39m\u001b[39m2\u001b[39m\n",
      "\u001b[1;31merror\u001b[0m: OpenCV(4.8.1) D:\\a\\opencv-python\\opencv-python\\opencv\\modules\\imgproc\\src\\resize.cpp:4062: error: (-215:Assertion failed) !ssize.empty() in function 'cv::resize'\n"
     ]
    }
   ],
   "source": [
    "import cv2\n",
    "from cvzone.HandTrackingModule import HandDetector\n",
    "import numpy as np\n",
    "import math\n",
    "import time\n",
    "\n",
    "\n",
    "cap = cv2.VideoCapture(0)\n",
    "detector = HandDetector(maxHands=1)\n",
    "\n",
    "offset = 20\n",
    "imgSize = 300\n",
    "\n",
    "folder = 'data/A'\n",
    "counter = 0\n",
    "\n",
    "while True:\n",
    "    success, img = cap.read()\n",
    "    hands, img = detector.findHands(img)\n",
    "    if hands:\n",
    "        hand = hands[0]\n",
    "        x, y, w, h = hand['bbox']\n",
    "\n",
    "        imgwhite = np.ones((imgSize, imgSize, 3), np.uint8)*255\n",
    "\n",
    "        imgCrop =img[y-offset:y + h+offset, x-offset:x + w+offset]\n",
    "\n",
    "        imgCropShape = imgCrop.shape\n",
    "\n",
    "        \n",
    "\n",
    "        aspectRatio = h/w\n",
    "        if aspectRatio > 1:\n",
    "            k = imgSize/h\n",
    "            wCal = math.ceil(k*w)\n",
    "            imgResize = cv2.resize(imgCrop, (wCal, imgSize))\n",
    "            imgResizeShape = imgResize.shape\n",
    "            wGap = math.ceil(imgSize-wCal)/2\n",
    "            imgwhite[:, int(wGap) : int(wCal) + int(wGap)] = imgResize\n",
    "\n",
    "        else:\n",
    "            k = imgSize/w\n",
    "            hCal = math.ceil(k*h)\n",
    "            imgResize = cv2.resize(imgCrop, (imgSize, hCal))\n",
    "            imgResizeShape = imgResize.shape\n",
    "            hGap = math.ceil((imgSize-hCal)/2)\n",
    "            imgwhite[int(hGap) : int(hCal) + int(hGap), :] = imgResize\n",
    "\n",
    "\n",
    "        cv2.imshow('ImageCrop', imgCrop)\n",
    "        cv2.imshow('ImageWhite', imgwhite)\n",
    "\n",
    "    cv2.imshow('Image', img)\n",
    "    key = cv2.waitKey(10)\n",
    "    if key == ord('s'):\n",
    "        counter += 1\n",
    "        cv2.imwrite(f'{folder}/Image_{time.time()}.jpg', imgwhite)\n",
    "        print(counter)\n"
   ]
  },
  {
   "cell_type": "code",
   "execution_count": null,
   "metadata": {},
   "outputs": [],
   "source": []
  }
 ],
 "metadata": {
  "kernelspec": {
   "display_name": "Python (learn-env)",
   "language": "python",
   "name": "learn-env"
  },
  "language_info": {
   "codemirror_mode": {
    "name": "ipython",
    "version": 3
   },
   "file_extension": ".py",
   "mimetype": "text/x-python",
   "name": "python",
   "nbconvert_exporter": "python",
   "pygments_lexer": "ipython3",
   "version": "3.10.11"
  },
  "orig_nbformat": 4
 },
 "nbformat": 4,
 "nbformat_minor": 2
}
